{
 "cells": [
  {
   "cell_type": "markdown",
   "id": "bridal-union",
   "metadata": {},
   "source": [
    "作业4"
   ]
  },
  {
   "cell_type": "code",
   "execution_count": 347,
   "id": "pressing-currency",
   "metadata": {},
   "outputs": [],
   "source": [
    "import pandas as pd\n",
    "import tushare as ts    # 导入tushare库\n",
    "import numpy as np\n",
    "import matplotlib.pylab as plt\n",
    "import statsmodels.api as sm\n",
    "pro = ts.pro_api('f6b511d8d4529f19319e1861edadda749e64a5b8573102deec80cfd8')   # 将复制好的token命令复制进api中\n",
    "plt.rcParams['font.sans-serif'] = ['simhei'] #字体为黑体\n",
    "plt.rcParams['axes.unicode_minus'] = False #正常显示负号 \n",
    "from statsmodels.tsa import stattools\n",
    "import statsmodels.api as sm\n",
    "import scipy.stats as stats\n",
    "import warnings\n",
    "warnings.filterwarnings(\"ignore\")"
   ]
  },
  {
   "cell_type": "code",
   "execution_count": 348,
   "id": "innocent-milwaukee",
   "metadata": {},
   "outputs": [],
   "source": [
    "from scipy import  stats\n",
    "import matplotlib.pyplot as plt\n",
    "import statsmodels.api as sm\n",
    "import statsmodels.formula.api as smf\n",
    "import statsmodels.tsa.api as smt\n",
    "import seaborn as sns\n",
    "from sklearn.linear_model import LinearRegression"
   ]
  },
  {
   "cell_type": "code",
   "execution_count": 349,
   "id": "brief-george",
   "metadata": {},
   "outputs": [],
   "source": [
    "#从tushare获取数据\n",
    "def get_data(year_start,year_end,stock_index,Type=\"daily\"):\n",
    "    Startday=str(year_start)+'0101'\n",
    "    Endday=str(year_end)+'1231'\n",
    "    df=pd.DataFrame()\n",
    "    if Type==\"daily\":\n",
    "        if stock_index==\"000300.SH\":\n",
    "            df=pro.index_daily(ts_code=stock_index, start_date=Startday, end_date=Endday, fields='trade_date,open')\n",
    "        else:\n",
    "            df = pro.daily(ts_code=stock_index, start_date=Startday, end_date=Endday, fields='trade_date,open')\n",
    "    elif Type==\"monthly\":\n",
    "        if stock_index==\"000300.SH\":\n",
    "            df=pro.index_monthly(ts_code=stock_index, start_date=Startday, end_date=Endday, fields='trade_date,open')\n",
    "        else:\n",
    "            df=pro.monthly(ts_code=stock_index, start_date=Startday, end_date=Endday, fields='trade_date,open')\n",
    "    df=df.rename(columns={'open':stock_index})\n",
    "    return df"
   ]
  },
  {
   "cell_type": "code",
   "execution_count": 350,
   "id": "starting-profession",
   "metadata": {},
   "outputs": [],
   "source": [
    "#股票指数列表，包含10支股票和1支指数(沪深300)\n",
    "stock_list=['000001.SZ', '000014.SZ','000027.SZ','000088.SZ', '000096.SZ','000400.SZ','000419.SZ',\n",
    " '000423.SZ','000528.SZ','000550.SZ','000300.SH']"
   ]
  },
  {
   "cell_type": "code",
   "execution_count": 351,
   "id": "bacterial-louisiana",
   "metadata": {},
   "outputs": [],
   "source": [
    "#批量获取股票数据\n",
    "def get_datas(year_start,year_end,stock_list,Type=\"daily\"):\n",
    "    df=get_data(year_start,year_end,stock_list[0],Type)\n",
    "    for item in stock_list[1:]:\n",
    "        df1=get_data(year_start,year_end,item,Type)\n",
    "        df=pd.merge(df,df1,on=\"trade_date\",how='inner')\n",
    "    df2=df.iloc[::-1]\n",
    "    df2.index=range(len(df2))\n",
    "    return df2"
   ]
  },
  {
   "cell_type": "code",
   "execution_count": 352,
   "id": "spanish-powell",
   "metadata": {
    "scrolled": true
   },
   "outputs": [],
   "source": [
    "#获取10-19年的月数据\n",
    "data=get_datas(2010,2019,stock_list,Type=\"monthly\")\n",
    "data.set_index([\"trade_date\"], inplace=True)"
   ]
  },
  {
   "cell_type": "code",
   "execution_count": 353,
   "id": "expensive-kennedy",
   "metadata": {
    "scrolled": false
   },
   "outputs": [
    {
     "data": {
      "text/html": [
       "<div>\n",
       "<style scoped>\n",
       "    .dataframe tbody tr th:only-of-type {\n",
       "        vertical-align: middle;\n",
       "    }\n",
       "\n",
       "    .dataframe tbody tr th {\n",
       "        vertical-align: top;\n",
       "    }\n",
       "\n",
       "    .dataframe thead th {\n",
       "        text-align: right;\n",
       "    }\n",
       "</style>\n",
       "<table border=\"1\" class=\"dataframe\">\n",
       "  <thead>\n",
       "    <tr style=\"text-align: right;\">\n",
       "      <th></th>\n",
       "      <th>000001.SZ</th>\n",
       "      <th>000014.SZ</th>\n",
       "      <th>000027.SZ</th>\n",
       "      <th>000088.SZ</th>\n",
       "      <th>000096.SZ</th>\n",
       "      <th>000400.SZ</th>\n",
       "      <th>000419.SZ</th>\n",
       "      <th>000423.SZ</th>\n",
       "      <th>000528.SZ</th>\n",
       "      <th>000550.SZ</th>\n",
       "      <th>000300.SH</th>\n",
       "    </tr>\n",
       "    <tr>\n",
       "      <th>trade_date</th>\n",
       "      <th></th>\n",
       "      <th></th>\n",
       "      <th></th>\n",
       "      <th></th>\n",
       "      <th></th>\n",
       "      <th></th>\n",
       "      <th></th>\n",
       "      <th></th>\n",
       "      <th></th>\n",
       "      <th></th>\n",
       "      <th></th>\n",
       "    </tr>\n",
       "  </thead>\n",
       "  <tbody>\n",
       "    <tr>\n",
       "      <th>20100129</th>\n",
       "      <td>24.52</td>\n",
       "      <td>15.51</td>\n",
       "      <td>13.77</td>\n",
       "      <td>8.37</td>\n",
       "      <td>7.78</td>\n",
       "      <td>22.76</td>\n",
       "      <td>7.45</td>\n",
       "      <td>26.15</td>\n",
       "      <td>22.00</td>\n",
       "      <td>23.30</td>\n",
       "      <td>3592.470</td>\n",
       "    </tr>\n",
       "    <tr>\n",
       "      <th>20100226</th>\n",
       "      <td>21.71</td>\n",
       "      <td>13.00</td>\n",
       "      <td>12.48</td>\n",
       "      <td>8.18</td>\n",
       "      <td>7.26</td>\n",
       "      <td>24.16</td>\n",
       "      <td>8.96</td>\n",
       "      <td>29.50</td>\n",
       "      <td>20.01</td>\n",
       "      <td>19.32</td>\n",
       "      <td>3198.230</td>\n",
       "    </tr>\n",
       "    <tr>\n",
       "      <th>20100331</th>\n",
       "      <td>22.89</td>\n",
       "      <td>13.40</td>\n",
       "      <td>12.94</td>\n",
       "      <td>8.27</td>\n",
       "      <td>7.86</td>\n",
       "      <td>26.41</td>\n",
       "      <td>8.84</td>\n",
       "      <td>30.05</td>\n",
       "      <td>22.33</td>\n",
       "      <td>21.75</td>\n",
       "      <td>3290.010</td>\n",
       "    </tr>\n",
       "    <tr>\n",
       "      <th>20100430</th>\n",
       "      <td>23.27</td>\n",
       "      <td>13.80</td>\n",
       "      <td>13.20</td>\n",
       "      <td>8.83</td>\n",
       "      <td>8.24</td>\n",
       "      <td>32.30</td>\n",
       "      <td>9.42</td>\n",
       "      <td>28.20</td>\n",
       "      <td>21.86</td>\n",
       "      <td>21.40</td>\n",
       "      <td>3349.880</td>\n",
       "    </tr>\n",
       "    <tr>\n",
       "      <th>20100531</th>\n",
       "      <td>20.10</td>\n",
       "      <td>10.73</td>\n",
       "      <td>11.80</td>\n",
       "      <td>7.41</td>\n",
       "      <td>7.90</td>\n",
       "      <td>33.47</td>\n",
       "      <td>9.85</td>\n",
       "      <td>32.50</td>\n",
       "      <td>19.80</td>\n",
       "      <td>22.30</td>\n",
       "      <td>3005.490</td>\n",
       "    </tr>\n",
       "    <tr>\n",
       "      <th>...</th>\n",
       "      <td>...</td>\n",
       "      <td>...</td>\n",
       "      <td>...</td>\n",
       "      <td>...</td>\n",
       "      <td>...</td>\n",
       "      <td>...</td>\n",
       "      <td>...</td>\n",
       "      <td>...</td>\n",
       "      <td>...</td>\n",
       "      <td>...</td>\n",
       "      <td>...</td>\n",
       "    </tr>\n",
       "    <tr>\n",
       "      <th>20190830</th>\n",
       "      <td>14.06</td>\n",
       "      <td>9.35</td>\n",
       "      <td>5.90</td>\n",
       "      <td>5.43</td>\n",
       "      <td>9.20</td>\n",
       "      <td>8.60</td>\n",
       "      <td>4.53</td>\n",
       "      <td>33.01</td>\n",
       "      <td>6.73</td>\n",
       "      <td>17.26</td>\n",
       "      <td>3819.324</td>\n",
       "    </tr>\n",
       "    <tr>\n",
       "      <th>20190930</th>\n",
       "      <td>14.15</td>\n",
       "      <td>9.72</td>\n",
       "      <td>5.90</td>\n",
       "      <td>5.93</td>\n",
       "      <td>9.80</td>\n",
       "      <td>8.46</td>\n",
       "      <td>4.22</td>\n",
       "      <td>31.50</td>\n",
       "      <td>6.20</td>\n",
       "      <td>14.11</td>\n",
       "      <td>3803.689</td>\n",
       "    </tr>\n",
       "    <tr>\n",
       "      <th>20191031</th>\n",
       "      <td>15.60</td>\n",
       "      <td>9.40</td>\n",
       "      <td>5.78</td>\n",
       "      <td>5.86</td>\n",
       "      <td>10.01</td>\n",
       "      <td>8.63</td>\n",
       "      <td>4.28</td>\n",
       "      <td>30.48</td>\n",
       "      <td>6.22</td>\n",
       "      <td>16.47</td>\n",
       "      <td>3818.589</td>\n",
       "    </tr>\n",
       "    <tr>\n",
       "      <th>20191129</th>\n",
       "      <td>16.35</td>\n",
       "      <td>8.91</td>\n",
       "      <td>6.06</td>\n",
       "      <td>5.68</td>\n",
       "      <td>9.81</td>\n",
       "      <td>9.06</td>\n",
       "      <td>4.34</td>\n",
       "      <td>35.23</td>\n",
       "      <td>6.26</td>\n",
       "      <td>15.24</td>\n",
       "      <td>3883.808</td>\n",
       "    </tr>\n",
       "    <tr>\n",
       "      <th>20191231</th>\n",
       "      <td>15.35</td>\n",
       "      <td>8.74</td>\n",
       "      <td>5.99</td>\n",
       "      <td>5.36</td>\n",
       "      <td>10.56</td>\n",
       "      <td>9.69</td>\n",
       "      <td>4.29</td>\n",
       "      <td>33.67</td>\n",
       "      <td>6.37</td>\n",
       "      <td>14.22</td>\n",
       "      <td>3835.513</td>\n",
       "    </tr>\n",
       "  </tbody>\n",
       "</table>\n",
       "<p>113 rows × 11 columns</p>\n",
       "</div>"
      ],
      "text/plain": [
       "            000001.SZ  000014.SZ  000027.SZ  000088.SZ  000096.SZ  000400.SZ  \\\n",
       "trade_date                                                                     \n",
       "20100129        24.52      15.51      13.77       8.37       7.78      22.76   \n",
       "20100226        21.71      13.00      12.48       8.18       7.26      24.16   \n",
       "20100331        22.89      13.40      12.94       8.27       7.86      26.41   \n",
       "20100430        23.27      13.80      13.20       8.83       8.24      32.30   \n",
       "20100531        20.10      10.73      11.80       7.41       7.90      33.47   \n",
       "...               ...        ...        ...        ...        ...        ...   \n",
       "20190830        14.06       9.35       5.90       5.43       9.20       8.60   \n",
       "20190930        14.15       9.72       5.90       5.93       9.80       8.46   \n",
       "20191031        15.60       9.40       5.78       5.86      10.01       8.63   \n",
       "20191129        16.35       8.91       6.06       5.68       9.81       9.06   \n",
       "20191231        15.35       8.74       5.99       5.36      10.56       9.69   \n",
       "\n",
       "            000419.SZ  000423.SZ  000528.SZ  000550.SZ  000300.SH  \n",
       "trade_date                                                         \n",
       "20100129         7.45      26.15      22.00      23.30   3592.470  \n",
       "20100226         8.96      29.50      20.01      19.32   3198.230  \n",
       "20100331         8.84      30.05      22.33      21.75   3290.010  \n",
       "20100430         9.42      28.20      21.86      21.40   3349.880  \n",
       "20100531         9.85      32.50      19.80      22.30   3005.490  \n",
       "...               ...        ...        ...        ...        ...  \n",
       "20190830         4.53      33.01       6.73      17.26   3819.324  \n",
       "20190930         4.22      31.50       6.20      14.11   3803.689  \n",
       "20191031         4.28      30.48       6.22      16.47   3818.589  \n",
       "20191129         4.34      35.23       6.26      15.24   3883.808  \n",
       "20191231         4.29      33.67       6.37      14.22   3835.513  \n",
       "\n",
       "[113 rows x 11 columns]"
      ]
     },
     "execution_count": 353,
     "metadata": {},
     "output_type": "execute_result"
    }
   ],
   "source": [
    "data"
   ]
  },
  {
   "cell_type": "code",
   "execution_count": 354,
   "id": "earned-garbage",
   "metadata": {},
   "outputs": [],
   "source": [
    "#净收益率和连续收益率\n",
    "data_return=(data/data.shift(1)-1).iloc[1:]\n",
    "data_logret=np.log(1+data_return)"
   ]
  },
  {
   "cell_type": "markdown",
   "id": "flexible-lightweight",
   "metadata": {},
   "source": [
    "由于我们的模型涉及超额收益率而非收益率，故将所得数据减去十年期股票平均月收益率$r_0$"
   ]
  },
  {
   "cell_type": "code",
   "execution_count": 355,
   "id": "sorted-reason",
   "metadata": {},
   "outputs": [],
   "source": [
    "r_0=0.0004\n",
    "data_exlogret=data_logret-r_0"
   ]
  },
  {
   "cell_type": "code",
   "execution_count": 356,
   "id": "taken-dylan",
   "metadata": {},
   "outputs": [
    {
     "data": {
      "text/html": [
       "<div>\n",
       "<style scoped>\n",
       "    .dataframe tbody tr th:only-of-type {\n",
       "        vertical-align: middle;\n",
       "    }\n",
       "\n",
       "    .dataframe tbody tr th {\n",
       "        vertical-align: top;\n",
       "    }\n",
       "\n",
       "    .dataframe thead th {\n",
       "        text-align: right;\n",
       "    }\n",
       "</style>\n",
       "<table border=\"1\" class=\"dataframe\">\n",
       "  <thead>\n",
       "    <tr style=\"text-align: right;\">\n",
       "      <th></th>\n",
       "      <th>000001.SZ</th>\n",
       "      <th>000014.SZ</th>\n",
       "      <th>000027.SZ</th>\n",
       "      <th>000088.SZ</th>\n",
       "      <th>000096.SZ</th>\n",
       "      <th>000400.SZ</th>\n",
       "      <th>000419.SZ</th>\n",
       "      <th>000423.SZ</th>\n",
       "      <th>000528.SZ</th>\n",
       "      <th>000550.SZ</th>\n",
       "      <th>000300.SH</th>\n",
       "    </tr>\n",
       "    <tr>\n",
       "      <th>trade_date</th>\n",
       "      <th></th>\n",
       "      <th></th>\n",
       "      <th></th>\n",
       "      <th></th>\n",
       "      <th></th>\n",
       "      <th></th>\n",
       "      <th></th>\n",
       "      <th></th>\n",
       "      <th></th>\n",
       "      <th></th>\n",
       "      <th></th>\n",
       "    </tr>\n",
       "  </thead>\n",
       "  <tbody>\n",
       "    <tr>\n",
       "      <th>20100226</th>\n",
       "      <td>-0.122116</td>\n",
       "      <td>-0.176936</td>\n",
       "      <td>-0.098765</td>\n",
       "      <td>-0.023362</td>\n",
       "      <td>-0.069577</td>\n",
       "      <td>0.059294</td>\n",
       "      <td>0.184156</td>\n",
       "      <td>0.120141</td>\n",
       "      <td>-0.095210</td>\n",
       "      <td>-0.187713</td>\n",
       "      <td>-0.116642</td>\n",
       "    </tr>\n",
       "    <tr>\n",
       "      <th>20100331</th>\n",
       "      <td>0.052527</td>\n",
       "      <td>0.029905</td>\n",
       "      <td>0.035796</td>\n",
       "      <td>0.010542</td>\n",
       "      <td>0.079007</td>\n",
       "      <td>0.088644</td>\n",
       "      <td>-0.013883</td>\n",
       "      <td>0.018072</td>\n",
       "      <td>0.109299</td>\n",
       "      <td>0.118073</td>\n",
       "      <td>0.027893</td>\n",
       "    </tr>\n",
       "    <tr>\n",
       "      <th>20100430</th>\n",
       "      <td>0.016065</td>\n",
       "      <td>0.029014</td>\n",
       "      <td>0.019494</td>\n",
       "      <td>0.065121</td>\n",
       "      <td>0.046814</td>\n",
       "      <td>0.200925</td>\n",
       "      <td>0.063148</td>\n",
       "      <td>-0.063941</td>\n",
       "      <td>-0.021673</td>\n",
       "      <td>-0.016623</td>\n",
       "      <td>0.017634</td>\n",
       "    </tr>\n",
       "    <tr>\n",
       "      <th>20100531</th>\n",
       "      <td>-0.146845</td>\n",
       "      <td>-0.252025</td>\n",
       "      <td>-0.112517</td>\n",
       "      <td>-0.175725</td>\n",
       "      <td>-0.042538</td>\n",
       "      <td>0.035182</td>\n",
       "      <td>0.044236</td>\n",
       "      <td>0.141518</td>\n",
       "      <td>-0.099377</td>\n",
       "      <td>0.040796</td>\n",
       "      <td>-0.108884</td>\n",
       "    </tr>\n",
       "    <tr>\n",
       "      <th>20100630</th>\n",
       "      <td>-0.142927</td>\n",
       "      <td>-0.032600</td>\n",
       "      <td>-0.125733</td>\n",
       "      <td>-0.101123</td>\n",
       "      <td>-0.244328</td>\n",
       "      <td>-0.003093</td>\n",
       "      <td>-0.107454</td>\n",
       "      <td>0.130358</td>\n",
       "      <td>-0.045334</td>\n",
       "      <td>-0.187216</td>\n",
       "      <td>-0.087322</td>\n",
       "    </tr>\n",
       "    <tr>\n",
       "      <th>...</th>\n",
       "      <td>...</td>\n",
       "      <td>...</td>\n",
       "      <td>...</td>\n",
       "      <td>...</td>\n",
       "      <td>...</td>\n",
       "      <td>...</td>\n",
       "      <td>...</td>\n",
       "      <td>...</td>\n",
       "      <td>...</td>\n",
       "      <td>...</td>\n",
       "      <td>...</td>\n",
       "    </tr>\n",
       "    <tr>\n",
       "      <th>20190830</th>\n",
       "      <td>0.003163</td>\n",
       "      <td>-0.042291</td>\n",
       "      <td>-0.062818</td>\n",
       "      <td>-0.020455</td>\n",
       "      <td>-0.059489</td>\n",
       "      <td>-0.067841</td>\n",
       "      <td>-0.032976</td>\n",
       "      <td>-0.196959</td>\n",
       "      <td>-0.006326</td>\n",
       "      <td>-0.112631</td>\n",
       "      <td>-0.021132</td>\n",
       "    </tr>\n",
       "    <tr>\n",
       "      <th>20190930</th>\n",
       "      <td>0.005981</td>\n",
       "      <td>0.038409</td>\n",
       "      <td>-0.000400</td>\n",
       "      <td>0.087685</td>\n",
       "      <td>0.062779</td>\n",
       "      <td>-0.016813</td>\n",
       "      <td>-0.071287</td>\n",
       "      <td>-0.047223</td>\n",
       "      <td>-0.082426</td>\n",
       "      <td>-0.201908</td>\n",
       "      <td>-0.004502</td>\n",
       "    </tr>\n",
       "    <tr>\n",
       "      <th>20191031</th>\n",
       "      <td>0.097156</td>\n",
       "      <td>-0.033876</td>\n",
       "      <td>-0.020949</td>\n",
       "      <td>-0.012275</td>\n",
       "      <td>0.020802</td>\n",
       "      <td>0.019495</td>\n",
       "      <td>0.013718</td>\n",
       "      <td>-0.033317</td>\n",
       "      <td>0.002821</td>\n",
       "      <td>0.154257</td>\n",
       "      <td>0.003510</td>\n",
       "    </tr>\n",
       "    <tr>\n",
       "      <th>20191129</th>\n",
       "      <td>0.046557</td>\n",
       "      <td>-0.053935</td>\n",
       "      <td>0.046906</td>\n",
       "      <td>-0.031598</td>\n",
       "      <td>-0.020582</td>\n",
       "      <td>0.048225</td>\n",
       "      <td>0.013521</td>\n",
       "      <td>0.144427</td>\n",
       "      <td>0.006010</td>\n",
       "      <td>-0.078017</td>\n",
       "      <td>0.016535</td>\n",
       "    </tr>\n",
       "    <tr>\n",
       "      <th>20191231</th>\n",
       "      <td>-0.063512</td>\n",
       "      <td>-0.019664</td>\n",
       "      <td>-0.012018</td>\n",
       "      <td>-0.058387</td>\n",
       "      <td>0.073271</td>\n",
       "      <td>0.066825</td>\n",
       "      <td>-0.011988</td>\n",
       "      <td>-0.045691</td>\n",
       "      <td>0.017019</td>\n",
       "      <td>-0.069674</td>\n",
       "      <td>-0.012913</td>\n",
       "    </tr>\n",
       "  </tbody>\n",
       "</table>\n",
       "<p>112 rows × 11 columns</p>\n",
       "</div>"
      ],
      "text/plain": [
       "            000001.SZ  000014.SZ  000027.SZ  000088.SZ  000096.SZ  000400.SZ  \\\n",
       "trade_date                                                                     \n",
       "20100226    -0.122116  -0.176936  -0.098765  -0.023362  -0.069577   0.059294   \n",
       "20100331     0.052527   0.029905   0.035796   0.010542   0.079007   0.088644   \n",
       "20100430     0.016065   0.029014   0.019494   0.065121   0.046814   0.200925   \n",
       "20100531    -0.146845  -0.252025  -0.112517  -0.175725  -0.042538   0.035182   \n",
       "20100630    -0.142927  -0.032600  -0.125733  -0.101123  -0.244328  -0.003093   \n",
       "...               ...        ...        ...        ...        ...        ...   \n",
       "20190830     0.003163  -0.042291  -0.062818  -0.020455  -0.059489  -0.067841   \n",
       "20190930     0.005981   0.038409  -0.000400   0.087685   0.062779  -0.016813   \n",
       "20191031     0.097156  -0.033876  -0.020949  -0.012275   0.020802   0.019495   \n",
       "20191129     0.046557  -0.053935   0.046906  -0.031598  -0.020582   0.048225   \n",
       "20191231    -0.063512  -0.019664  -0.012018  -0.058387   0.073271   0.066825   \n",
       "\n",
       "            000419.SZ  000423.SZ  000528.SZ  000550.SZ  000300.SH  \n",
       "trade_date                                                         \n",
       "20100226     0.184156   0.120141  -0.095210  -0.187713  -0.116642  \n",
       "20100331    -0.013883   0.018072   0.109299   0.118073   0.027893  \n",
       "20100430     0.063148  -0.063941  -0.021673  -0.016623   0.017634  \n",
       "20100531     0.044236   0.141518  -0.099377   0.040796  -0.108884  \n",
       "20100630    -0.107454   0.130358  -0.045334  -0.187216  -0.087322  \n",
       "...               ...        ...        ...        ...        ...  \n",
       "20190830    -0.032976  -0.196959  -0.006326  -0.112631  -0.021132  \n",
       "20190930    -0.071287  -0.047223  -0.082426  -0.201908  -0.004502  \n",
       "20191031     0.013718  -0.033317   0.002821   0.154257   0.003510  \n",
       "20191129     0.013521   0.144427   0.006010  -0.078017   0.016535  \n",
       "20191231    -0.011988  -0.045691   0.017019  -0.069674  -0.012913  \n",
       "\n",
       "[112 rows x 11 columns]"
      ]
     },
     "execution_count": 356,
     "metadata": {},
     "output_type": "execute_result"
    }
   ],
   "source": [
    "data_exlogret"
   ]
  },
  {
   "cell_type": "markdown",
   "id": "unauthorized-liberia",
   "metadata": {},
   "source": [
    "问题1：每个股票关于指数回归, 回归结果Regression_result中'alpha','beta','R2','t-stat','p-value'分别表示回归的截距的估计，回归系数的估计，R-squared，对截距项估计的t统计量和p值. Resid用于储存每个股票回归的残差"
   ]
  },
  {
   "cell_type": "markdown",
   "id": "fitting-flexibility",
   "metadata": {},
   "source": [
    "$N$ 种资产超额收益率的线性模型，一元模型\n",
    "$$\n",
    "\\begin{array}{l}\n",
    "\\overrightarrow{\\mathbf{Z}}_{t}=\\overrightarrow{\\boldsymbol{\\alpha}}+\\overrightarrow{\\boldsymbol{\\beta}} z_{m t}+\\overrightarrow{\\boldsymbol{\\varepsilon}}_{\\mathbf{t}}, t=1,2, \\ldots, T \\\\\n",
    "E\\left[\\overrightarrow{\\boldsymbol{\\varepsilon}}_{\\mathrm{t}}\\right]=0 \\\\\n",
    "E\\left[\\vec{\\varepsilon}_{\\mathrm{t}} \\vec{\\varepsilon}_{\\mathbf{t}}^{\\prime}\\right]=\\boldsymbol{\\Sigma} \\\\\n",
    "E\\left[z_{m t}\\right]=\\mu_{m}, E\\left[\\left(z_{m t}-\\mu_{m}\\right)^{2}\\right]=\\sigma_{m}^{2} \\\\\n",
    "\\operatorname{Cov}\\left[z_{m t}, \\boldsymbol{\\varepsilon}_{i \\mathbf{t}}\\right]=0\n",
    "\\end{array}\n",
    "$$"
   ]
  },
  {
   "cell_type": "code",
   "execution_count": 357,
   "id": "funny-wyoming",
   "metadata": {},
   "outputs": [],
   "source": [
    "Regression_result=pd.DataFrame(columns=stock_list[:-1],index=['alpha','beta','R2','t-stat','p-value'])\n",
    "Resid=pd.DataFrame(columns=stock_list[:-1])"
   ]
  },
  {
   "cell_type": "code",
   "execution_count": 358,
   "id": "northern-innocent",
   "metadata": {},
   "outputs": [],
   "source": [
    "#沪深300对各个股票exlogret回归\n",
    "for item in stock_list[:-1]:\n",
    "    X=np.array(data_exlogret['000300.SH']).reshape(-1, 1)\n",
    "    Y=np.array(data_exlogret[item]).reshape(-1, 1)\n",
    "    model0 = LinearRegression()\n",
    "    model0.fit(X, Y)\n",
    "    a = model0.intercept_  # 截距估计\n",
    "    b = model0.coef_  # 回归系数估计\n",
    "    r_sq = model0.score(X, Y) #R2\n",
    "    intercepts=Y-X*b #截距项\n",
    "    resid=(Y-model0.predict(X)).reshape(1,-1)[0]#残差\n",
    "    Resid[item]=resid\n",
    "    t_test=stats.ttest_1samp(intercepts, 0) #截距项单样本t检验\n",
    "    Regression_result.loc['alpha',item]=a[0]\n",
    "    Regression_result.loc['beta',item]=b[0][0]\n",
    "    Regression_result.loc['R2',item]=r_sq\n",
    "    Regression_result.loc['t-stat',item]=t_test.statistic[0]\n",
    "    Regression_result.loc['p-value',item]=t_test.pvalue[0]"
   ]
  },
  {
   "cell_type": "code",
   "execution_count": 359,
   "id": "funny-canadian",
   "metadata": {},
   "outputs": [
    {
     "data": {
      "text/html": [
       "<div>\n",
       "<style scoped>\n",
       "    .dataframe tbody tr th:only-of-type {\n",
       "        vertical-align: middle;\n",
       "    }\n",
       "\n",
       "    .dataframe tbody tr th {\n",
       "        vertical-align: top;\n",
       "    }\n",
       "\n",
       "    .dataframe thead th {\n",
       "        text-align: right;\n",
       "    }\n",
       "</style>\n",
       "<table border=\"1\" class=\"dataframe\">\n",
       "  <thead>\n",
       "    <tr style=\"text-align: right;\">\n",
       "      <th></th>\n",
       "      <th>000001.SZ</th>\n",
       "      <th>000014.SZ</th>\n",
       "      <th>000027.SZ</th>\n",
       "      <th>000088.SZ</th>\n",
       "      <th>000096.SZ</th>\n",
       "      <th>000400.SZ</th>\n",
       "      <th>000419.SZ</th>\n",
       "      <th>000423.SZ</th>\n",
       "      <th>000528.SZ</th>\n",
       "      <th>000550.SZ</th>\n",
       "    </tr>\n",
       "  </thead>\n",
       "  <tbody>\n",
       "    <tr>\n",
       "      <th>alpha</th>\n",
       "      <td>-0.00480199</td>\n",
       "      <td>-0.0057047</td>\n",
       "      <td>-0.00802387</td>\n",
       "      <td>-0.00455456</td>\n",
       "      <td>0.00215815</td>\n",
       "      <td>-0.0081601</td>\n",
       "      <td>-0.00549164</td>\n",
       "      <td>0.00175002</td>\n",
       "      <td>-0.0117207</td>\n",
       "      <td>-0.00494559</td>\n",
       "    </tr>\n",
       "    <tr>\n",
       "      <th>beta</th>\n",
       "      <td>1.19292</td>\n",
       "      <td>0.994586</td>\n",
       "      <td>1.03915</td>\n",
       "      <td>0.949548</td>\n",
       "      <td>0.919688</td>\n",
       "      <td>0.736634</td>\n",
       "      <td>0.887415</td>\n",
       "      <td>0.578622</td>\n",
       "      <td>1.37816</td>\n",
       "      <td>0.740525</td>\n",
       "    </tr>\n",
       "    <tr>\n",
       "      <th>R2</th>\n",
       "      <td>0.500436</td>\n",
       "      <td>0.270704</td>\n",
       "      <td>0.464205</td>\n",
       "      <td>0.343798</td>\n",
       "      <td>0.324122</td>\n",
       "      <td>0.19127</td>\n",
       "      <td>0.332773</td>\n",
       "      <td>0.193315</td>\n",
       "      <td>0.526174</td>\n",
       "      <td>0.182195</td>\n",
       "    </tr>\n",
       "    <tr>\n",
       "      <th>t-stat</th>\n",
       "      <td>-0.622649</td>\n",
       "      <td>-0.540058</td>\n",
       "      <td>-1.11075</td>\n",
       "      <td>-0.536559</td>\n",
       "      <td>0.251141</td>\n",
       "      <td>-0.83257</td>\n",
       "      <td>-0.67541</td>\n",
       "      <td>0.228815</td>\n",
       "      <td>-1.38505</td>\n",
       "      <td>-0.487166</td>\n",
       "    </tr>\n",
       "    <tr>\n",
       "      <th>p-value</th>\n",
       "      <td>0.534792</td>\n",
       "      <td>0.590239</td>\n",
       "      <td>0.269077</td>\n",
       "      <td>0.592646</td>\n",
       "      <td>0.80217</td>\n",
       "      <td>0.406875</td>\n",
       "      <td>0.50082</td>\n",
       "      <td>0.819434</td>\n",
       "      <td>0.168814</td>\n",
       "      <td>0.627101</td>\n",
       "    </tr>\n",
       "  </tbody>\n",
       "</table>\n",
       "</div>"
      ],
      "text/plain": [
       "          000001.SZ  000014.SZ   000027.SZ   000088.SZ   000096.SZ  000400.SZ  \\\n",
       "alpha   -0.00480199 -0.0057047 -0.00802387 -0.00455456  0.00215815 -0.0081601   \n",
       "beta        1.19292   0.994586     1.03915    0.949548    0.919688   0.736634   \n",
       "R2         0.500436   0.270704    0.464205    0.343798    0.324122    0.19127   \n",
       "t-stat    -0.622649  -0.540058    -1.11075   -0.536559    0.251141   -0.83257   \n",
       "p-value    0.534792   0.590239    0.269077    0.592646     0.80217   0.406875   \n",
       "\n",
       "          000419.SZ   000423.SZ  000528.SZ   000550.SZ  \n",
       "alpha   -0.00549164  0.00175002 -0.0117207 -0.00494559  \n",
       "beta       0.887415    0.578622    1.37816    0.740525  \n",
       "R2         0.332773    0.193315   0.526174    0.182195  \n",
       "t-stat     -0.67541    0.228815   -1.38505   -0.487166  \n",
       "p-value     0.50082    0.819434   0.168814    0.627101  "
      ]
     },
     "execution_count": 359,
     "metadata": {},
     "output_type": "execute_result"
    }
   ],
   "source": [
    "Regression_result"
   ]
  },
  {
   "cell_type": "markdown",
   "id": "unexpected-productivity",
   "metadata": {},
   "source": [
    "对于模型设定的回归诊断检验，我们检验模型残差是否符合正态分布，使用QQplot的方法"
   ]
  },
  {
   "cell_type": "code",
   "execution_count": 360,
   "id": "received-studio",
   "metadata": {
    "scrolled": true
   },
   "outputs": [
    {
     "data": {
      "image/png": "[encoded data removed]",
      "text/plain": [
       "<Figure size 432x288 with 1 Axes>"
      ]
     },
     "metadata": {
      "needs_background": "light"
     },
     "output_type": "display_data"
    },
    {
     "data": {
      "image/png": "[encoded data removed]",
      "text/plain": [
       "<Figure size 432x288 with 1 Axes>"
      ]
     },
     "metadata": {
      "needs_background": "light"
     },
     "output_type": "display_data"
    },
    {
     "data": {
      "image/png": "[encoded data removed]",
      "text/plain": [
       "<Figure size 432x288 with 1 Axes>"
      ]
     },
     "metadata": {
      "needs_background": "light"
     },
     "output_type": "display_data"
    },
    {
     "data": {
      "image/png": "[encoded data removed]",
      "text/plain": [
       "<Figure size 432x288 with 1 Axes>"
      ]
     },
     "metadata": {
      "needs_background": "light"
     },
     "output_type": "display_data"
    },
    {
     "data": {
      "image/png": "[encoded data removed]",
      "text/plain": [
       "<Figure size 432x288 with 1 Axes>"
      ]
     },
     "metadata": {
      "needs_background": "light"
     },
     "output_type": "display_data"
    },
    {
     "data": {
      "image/png": "[encoded data removed]",
      "text/plain": [
       "<Figure size 432x288 with 1 Axes>"
      ]
     },
     "metadata": {
      "needs_background": "light"
     },
     "output_type": "display_data"
    },
    {
     "data": {
      "image/png": "[encoded data removed]",
      "text/plain": [
       "<Figure size 432x288 with 1 Axes>"
      ]
     },
     "metadata": {
      "needs_background": "light"
     },
     "output_type": "display_data"
    },
    {
     "data": {
      "image/png": "[encoded data removed]",
      "text/plain": [
       "<Figure size 432x288 with 1 Axes>"
      ]
     },
     "metadata": {
      "needs_background": "light"
     },
     "output_type": "display_data"
    },
    {
     "data": {
      "image/png": "[encoded data removed]",
      "text/plain": [
       "<Figure size 432x288 with 1 Axes>"
      ]
     },
     "metadata": {
      "needs_background": "light"
     },
     "output_type": "display_data"
    },
    {
     "data": {
      "image/png": "[encoded data removed]",
      "text/plain": [
       "<Figure size 432x288 with 1 Axes>"
      ]
     },
     "metadata": {
      "needs_background": "light"
     },
     "output_type": "display_data"
    }
   ],
   "source": [
    "# 残差QQ图：用来描述残差是否符合正态分布\n",
    "for item in stock_list[:-1]:\n",
    "    qqplot = sm.qqplot(Resid[item], line='s')\n",
    "    plt.xlabel('Theoretical quantiles')\n",
    "    plt.ylabel('Sample quantiles')\n",
    "    plt.title(item+'Normal Q-Q')\n",
    "    plt.show(qqplot)"
   ]
  },
  {
   "cell_type": "markdown",
   "id": "warming-leonard",
   "metadata": {},
   "source": [
    "问题2.加入等权组合"
   ]
  },
  {
   "cell_type": "code",
   "execution_count": 361,
   "id": "conceptual-fighter",
   "metadata": {},
   "outputs": [],
   "source": [
    "data_exlogret_new=data_exlogret.copy()\n",
    "data_exlogret_new[\"Equal_Weight\"]=(data_exlogret.iloc[:,:-1]).mean(axis=1)"
   ]
  },
  {
   "cell_type": "code",
   "execution_count": 362,
   "id": "composed-consultation",
   "metadata": {},
   "outputs": [],
   "source": [
    "Regression_result_new=pd.DataFrame(columns=stock_list[:-1]+[\"Equal_Weight\"],index=['alpha','beta','R2','t-stat','p-value'])\n",
    "Resid_new=pd.DataFrame(columns=stock_list[:-1]+[\"Equal_Weight\"])"
   ]
  },
  {
   "cell_type": "code",
   "execution_count": 363,
   "id": "simplified-frequency",
   "metadata": {},
   "outputs": [],
   "source": [
    "#沪深300对各个股票及等权组合exlogret回归\n",
    "for item in stock_list[:-1]+[\"Equal_Weight\"]:\n",
    "    X=np.array(data_exlogret_new['000300.SH']).reshape(-1, 1)\n",
    "    Y=np.array(data_exlogret_new[item]).reshape(-1, 1)\n",
    "    model1 = LinearRegression()\n",
    "    model1.fit(X, Y)\n",
    "    a = model1.intercept_  # 截距估计\n",
    "    b = model1.coef_  # 回归系数估计\n",
    "    r_sq = model1.score(X, Y) #R2\n",
    "    intercepts=Y-X*b #截距项\n",
    "    resid=(Y-model1.predict(X)).reshape(1,-1)[0]#残差\n",
    "    Resid_new[item]=resid\n",
    "    t_test=stats.ttest_1samp(intercepts, 0) #截距项单样本t检验\n",
    "    Regression_result_new.loc['alpha',item]=a[0]\n",
    "    Regression_result_new.loc['beta',item]=b[0][0]\n",
    "    Regression_result_new.loc['R2',item]=r_sq\n",
    "    Regression_result_new.loc['t-stat',item]=t_test.statistic[0]\n",
    "    Regression_result_new.loc['p-value',item]=t_test.pvalue[0]"
   ]
  },
  {
   "cell_type": "code",
   "execution_count": 364,
   "id": "handmade-recovery",
   "metadata": {},
   "outputs": [
    {
     "data": {
      "text/html": [
       "<div>\n",
       "<style scoped>\n",
       "    .dataframe tbody tr th:only-of-type {\n",
       "        vertical-align: middle;\n",
       "    }\n",
       "\n",
       "    .dataframe tbody tr th {\n",
       "        vertical-align: top;\n",
       "    }\n",
       "\n",
       "    .dataframe thead th {\n",
       "        text-align: right;\n",
       "    }\n",
       "</style>\n",
       "<table border=\"1\" class=\"dataframe\">\n",
       "  <thead>\n",
       "    <tr style=\"text-align: right;\">\n",
       "      <th></th>\n",
       "      <th>000001.SZ</th>\n",
       "      <th>000014.SZ</th>\n",
       "      <th>000027.SZ</th>\n",
       "      <th>000088.SZ</th>\n",
       "      <th>000096.SZ</th>\n",
       "      <th>000400.SZ</th>\n",
       "      <th>000419.SZ</th>\n",
       "      <th>000423.SZ</th>\n",
       "      <th>000528.SZ</th>\n",
       "      <th>000550.SZ</th>\n",
       "      <th>Equal_Weight</th>\n",
       "    </tr>\n",
       "  </thead>\n",
       "  <tbody>\n",
       "    <tr>\n",
       "      <th>alpha</th>\n",
       "      <td>-0.00480199</td>\n",
       "      <td>-0.0057047</td>\n",
       "      <td>-0.00802387</td>\n",
       "      <td>-0.00455456</td>\n",
       "      <td>0.00215815</td>\n",
       "      <td>-0.0081601</td>\n",
       "      <td>-0.00549164</td>\n",
       "      <td>0.00175002</td>\n",
       "      <td>-0.0117207</td>\n",
       "      <td>-0.00494559</td>\n",
       "      <td>-0.0049495</td>\n",
       "    </tr>\n",
       "    <tr>\n",
       "      <th>beta</th>\n",
       "      <td>1.19292</td>\n",
       "      <td>0.994586</td>\n",
       "      <td>1.03915</td>\n",
       "      <td>0.949548</td>\n",
       "      <td>0.919688</td>\n",
       "      <td>0.736634</td>\n",
       "      <td>0.887415</td>\n",
       "      <td>0.578622</td>\n",
       "      <td>1.37816</td>\n",
       "      <td>0.740525</td>\n",
       "      <td>0.941725</td>\n",
       "    </tr>\n",
       "    <tr>\n",
       "      <th>R2</th>\n",
       "      <td>0.500436</td>\n",
       "      <td>0.270704</td>\n",
       "      <td>0.464205</td>\n",
       "      <td>0.343798</td>\n",
       "      <td>0.324122</td>\n",
       "      <td>0.19127</td>\n",
       "      <td>0.332773</td>\n",
       "      <td>0.193315</td>\n",
       "      <td>0.526174</td>\n",
       "      <td>0.182195</td>\n",
       "      <td>0.758577</td>\n",
       "    </tr>\n",
       "    <tr>\n",
       "      <th>t-stat</th>\n",
       "      <td>-0.622649</td>\n",
       "      <td>-0.540058</td>\n",
       "      <td>-1.11075</td>\n",
       "      <td>-0.536559</td>\n",
       "      <td>0.251141</td>\n",
       "      <td>-0.83257</td>\n",
       "      <td>-0.67541</td>\n",
       "      <td>0.228815</td>\n",
       "      <td>-1.38505</td>\n",
       "      <td>-0.487166</td>\n",
       "      <td>-1.4398</td>\n",
       "    </tr>\n",
       "    <tr>\n",
       "      <th>p-value</th>\n",
       "      <td>0.534792</td>\n",
       "      <td>0.590239</td>\n",
       "      <td>0.269077</td>\n",
       "      <td>0.592646</td>\n",
       "      <td>0.80217</td>\n",
       "      <td>0.406875</td>\n",
       "      <td>0.50082</td>\n",
       "      <td>0.819434</td>\n",
       "      <td>0.168814</td>\n",
       "      <td>0.627101</td>\n",
       "      <td>0.152737</td>\n",
       "    </tr>\n",
       "  </tbody>\n",
       "</table>\n",
       "</div>"
      ],
      "text/plain": [
       "          000001.SZ  000014.SZ   000027.SZ   000088.SZ   000096.SZ  000400.SZ  \\\n",
       "alpha   -0.00480199 -0.0057047 -0.00802387 -0.00455456  0.00215815 -0.0081601   \n",
       "beta        1.19292   0.994586     1.03915    0.949548    0.919688   0.736634   \n",
       "R2         0.500436   0.270704    0.464205    0.343798    0.324122    0.19127   \n",
       "t-stat    -0.622649  -0.540058    -1.11075   -0.536559    0.251141   -0.83257   \n",
       "p-value    0.534792   0.590239    0.269077    0.592646     0.80217   0.406875   \n",
       "\n",
       "          000419.SZ   000423.SZ  000528.SZ   000550.SZ Equal_Weight  \n",
       "alpha   -0.00549164  0.00175002 -0.0117207 -0.00494559   -0.0049495  \n",
       "beta       0.887415    0.578622    1.37816    0.740525     0.941725  \n",
       "R2         0.332773    0.193315   0.526174    0.182195     0.758577  \n",
       "t-stat     -0.67541    0.228815   -1.38505   -0.487166      -1.4398  \n",
       "p-value     0.50082    0.819434   0.168814    0.627101     0.152737  "
      ]
     },
     "execution_count": 364,
     "metadata": {},
     "output_type": "execute_result"
    }
   ],
   "source": [
    "Regression_result_new"
   ]
  },
  {
   "cell_type": "code",
   "execution_count": 365,
   "id": "passing-slovakia",
   "metadata": {},
   "outputs": [
    {
     "data": {
      "image/png": "[encoded data removed]",
      "text/plain": [
       "<Figure size 432x288 with 1 Axes>"
      ]
     },
     "metadata": {
      "needs_background": "light"
     },
     "output_type": "display_data"
    }
   ],
   "source": [
    "# 残差QQ图：用来描述残差是否符合正态分布\n",
    "qqplot = sm.qqplot(Resid_new['Equal_Weight'], line='s')\n",
    "plt.xlabel('Theoretical quantiles')\n",
    "plt.ylabel('Sample quantiles')\n",
    "plt.title('Equal_Weight'+'Normal Q-Q')\n",
    "plt.show(qqplot)"
   ]
  },
  {
   "cell_type": "markdown",
   "id": "spanish-outside",
   "metadata": {},
   "source": [
    "问题3.计算F检验统计量$J_1$"
   ]
  },
  {
   "cell_type": "markdown",
   "id": "certified-wildlife",
   "metadata": {},
   "source": [
    "似然方程的解\n",
    "$$\n",
    "\\begin{array}{l}\n",
    "\\widehat{\\boldsymbol{\\alpha}}=\\hat{\\vec{\\mu}}-\\hat{\\vec{\\beta}} \\hat{\\mu}_{m}, \\widehat{\\boldsymbol{\\beta}}=\\frac{\\sum_{t=1}^{T}\\ \\left(\\overrightarrow{\\mathbf{Z}}_{t}-\\hat{\\vec{\\mu}}\\right)\\left(z_{m t}-\\hat{\\mu}_{m}\\right)}{\\sum_{t=1}^{T}\\left(z_{m t}-\\hat{\\mu}_{m}\\right)^{2}} \\\\\n",
    "\\widehat{\\boldsymbol{\\Sigma}}=\\frac{1}{T} \\sum_{t=1}^{T}\\left(\\overrightarrow{\\mathbf{Z}}_{t}-\\hat{\\vec{\\alpha}}-\\hat{\\vec{\\beta}}z_{m t}\\right)\\left(\\overrightarrow{\\mathbf{Z}}_{t}-\\hat{\\vec{\\alpha}}-\\hat{\\vec{\\beta}} z_{m t}\\right)^{\\prime} \\\\\n",
    "\\hat{\\vec{\\mu}}=\\frac{1}{T} \\sum_{t=1}^{T} \\mathbf{z}_{t}, \\hat{\\mu}_{m}=\\frac{1}{T} \\sum_{t=1}^{T} z_{m t}\n",
    "\\end{array}\n",
    "$$"
   ]
  },
  {
   "cell_type": "markdown",
   "id": "arabic-schema",
   "metadata": {},
   "source": [
    "直接定义统计量:\n",
    "$J_{1}=\\frac{T-N-1}{N}\\left[1+\\frac{\\hat{\\mu}_{m}^{2}}{\\hat{\\sigma}_{m}^{2}}\\right]^{-1} \\widehat{\\overrightarrow{\\boldsymbol{\\alpha}}}^{\\prime} \\widehat{\\mathbf{\\Sigma}}^{-1} \\widehat{\\boldsymbol{\\alpha}}$\n"
   ]
  },
  {
   "cell_type": "code",
   "execution_count": 369,
   "id": "powerful-recovery",
   "metadata": {},
   "outputs": [],
   "source": [
    "#估计量\n",
    "N=len(stock_list[:-1])\n",
    "T=len(data_logret)\n",
    "alpha_hat=Regression_result.loc['alpha']\n",
    "beta_hat_hat=Regression_result.loc['beta']\n",
    "mu_hat=data_exlogret.iloc[:,:-1].mean()\n",
    "mu_m_hat=data_exlogret.iloc[:,-1].mean()\n",
    "sigma_m_hat=data_exlogret.iloc[:,-1].std()\n",
    "Sigma_hat=np.array(Resid.cov())"
   ]
  },
  {
   "cell_type": "markdown",
   "id": "quarterly-karma",
   "metadata": {},
   "source": [
    "计算统计量 $J_1$"
   ]
  },
  {
   "cell_type": "code",
   "execution_count": 370,
   "id": "handy-species",
   "metadata": {
    "scrolled": true
   },
   "outputs": [
    {
     "data": {
      "text/plain": [
       "0.5252829761677997"
      ]
     },
     "execution_count": 370,
     "metadata": {},
     "output_type": "execute_result"
    }
   ],
   "source": [
    "J_1=(T-N-1)/N*np.power(1+np.power(mu_m_hat/sigma_m_hat,2),-1)*\\\n",
    "np.dot(np.dot (alpha_hat.T, np.linalg.inv(Sigma_hat)),alpha_hat)\n",
    "J_1"
   ]
  },
  {
   "cell_type": "markdown",
   "id": "frank-missouri",
   "metadata": {},
   "source": [
    "当 $H_{0}: \\vec{\\alpha}=\\overrightarrow{0}$ 成立时, $J_{1} \\sim F_{N, T-N-1}$, 以下计算该检验的p值"
   ]
  },
  {
   "cell_type": "code",
   "execution_count": 371,
   "id": "cooperative-frontier",
   "metadata": {},
   "outputs": [
    {
     "data": {
      "text/plain": [
       "0.8687437278982977"
      ]
     },
     "execution_count": 371,
     "metadata": {},
     "output_type": "execute_result"
    }
   ],
   "source": [
    "p_value_Ftest=1-stats.f.cdf(J_1, N, T-N-1)\n",
    "p_value_Ftest"
   ]
  },
  {
   "cell_type": "markdown",
   "id": "russian-pacific",
   "metadata": {},
   "source": [
    "不拒绝原假设$H_{0}: \\overrightarrow{\\boldsymbol{\\alpha}}=\\overrightarrow{0}$"
   ]
  }
 ],
 "metadata": {
  "kernelspec": {
   "display_name": "Python 3",
   "language": "python",
   "name": "python3"
  },
  "language_info": {
   "codemirror_mode": {
    "name": "ipython",
    "version": 3
   },
   "file_extension": ".py",
   "mimetype": "text/x-python",
   "name": "python",
   "nbconvert_exporter": "python",
   "pygments_lexer": "ipython3",
   "version": "3.8.5"
  }
 },
 "nbformat": 4,
 "nbformat_minor": 5
}
